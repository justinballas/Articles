{
  "nbformat": 4,
  "nbformat_minor": 0,
  "metadata": {
    "colab": {
      "name": "TVM Python Final Draft.ipynb",
      "provenance": [],
      "collapsed_sections": [],
      "include_colab_link": true
    },
    "kernelspec": {
      "name": "python3",
      "display_name": "Python 3"
    },
    "language_info": {
      "name": "python"
    }
  },
  "cells": [
    {
      "cell_type": "markdown",
      "metadata": {
        "id": "view-in-github",
        "colab_type": "text"
      },
      "source": [
        "<a href=\"https://colab.research.google.com/github/justinballas/Articles/blob/main/TVM_Python_Final_Draft.ipynb\" target=\"_parent\"><img src=\"https://colab.research.google.com/assets/colab-badge.svg\" alt=\"Open In Colab\"/></a>"
      ]
    },
    {
      "cell_type": "markdown",
      "metadata": {
        "id": "tA4om3s2XDe5"
      },
      "source": [
        "**Exploring the Time Value of Money in Python (Numpy Financial Tutorial and More)**"
      ]
    },
    {
      "cell_type": "markdown",
      "metadata": {
        "id": "Kl4Yx0XXZIXD"
      },
      "source": [
        "In business and finance school, you may hear that in order to stay competitive in the marketplace, it is important to learn things like R or Python. Naturally, the next steps are to scour the internet for tutorials. You may stumble upon many tutorials created by people with computer science backgrounds that dabble in finance. These may be tutorials on using machine learning to predict stock prices, or using time series analysis to study the trading patterns of cryptocurrency. These can be effective pursuits and are certainly worth their time, but it is not so common to find tutorials for these technologies by teachers with traditional finance backgrounds that focus on traditional finance concepts. Furthermore, it is even less common to find tutorials by people who are deeply educated in both fields.\n",
        "\n",
        "This article will attempt to marry the traditional finance concepts with the efficiency of Python code, and offer a window into Python for students studying business and finance.\n"
      ]
    },
    {
      "cell_type": "markdown",
      "metadata": {
        "id": "7hWlrqAZaVbg"
      },
      "source": [
        "Now we will import Pandas and Numpy."
      ]
    },
    {
      "cell_type": "code",
      "metadata": {
        "id": "zR21aFi-pPQT"
      },
      "source": [
        "import numpy as np\n",
        "import pandas as pd\n",
        "import datetime as dt"
      ],
      "execution_count": 1,
      "outputs": []
    },
    {
      "cell_type": "markdown",
      "metadata": {
        "id": "U4xAsukRaahp"
      },
      "source": [
        "Net Present Value is one of the first concepts you will learn in a traditional finance course. NPV gives you the value today of a stream of cash flows discounted by a specified rate of growth.\n",
        "\n",
        "Net present value is the sum of the present value of a stream of cash flows. The present value formula is pv = cf/(1+r)**n\n",
        "\n",
        "r being rate and n being the compounding period.\n",
        "\n",
        "Let's calculate NPV with Python."
      ]
    },
    {
      "cell_type": "code",
      "metadata": {
        "colab": {
          "base_uri": "https://localhost:8080/"
        },
        "id": "VGCwojZlTo0S",
        "outputId": "a87c7b61-c08b-49c7-bec4-f86d411f0660"
      },
      "source": [
        "#Initializing our stream of cash throws with a Python list.\n",
        "cash_flow = [-100_000, 25000, 25000, 25000, 25000, 25000]\n",
        "\n",
        "#Our discount rate is 7% per month.\n",
        "r = .07/12\n",
        "\n",
        "#Using list comprehension to loop over our stream of Cash Flows to calculate NPV for each CF.\n",
        "pv = [cash_flow[i-1]/(1+r)**i for i in range(1, len(cash_flow)+1)]\n",
        "print(pv)"
      ],
      "execution_count": null,
      "outputs": [
        {
          "output_type": "stream",
          "text": [
            "[-99420.04971002485, 24710.865710859533, 24567.55497351403, 24425.075367205336, 24283.42207178658, 24142.590295065365]\n"
          ],
          "name": "stdout"
        }
      ]
    },
    {
      "cell_type": "code",
      "metadata": {
        "colab": {
          "base_uri": "https://localhost:8080/"
        },
        "id": "aSkk1lVkVU8a",
        "outputId": "9192843d-3a7e-410b-fcf1-11c6b8736e36"
      },
      "source": [
        "npv = sum(pv)\n",
        "print(npv)"
      ],
      "execution_count": null,
      "outputs": [
        {
          "output_type": "stream",
          "text": [
            "22709.458708406\n"
          ],
          "name": "stdout"
        }
      ]
    },
    {
      "cell_type": "markdown",
      "metadata": {
        "id": "w_q-iM6pXO56"
      },
      "source": [
        "Now if we want to create a cf table, we can use Pandas by creating a dataframe with the column defined as the equation."
      ]
    },
    {
      "cell_type": "code",
      "metadata": {
        "colab": {
          "base_uri": "https://localhost:8080/",
          "height": 266
        },
        "id": "K5xS-cS9MOS5",
        "outputId": "eaf8909d-ad01-457c-b5a2-fe5d09862b6e"
      },
      "source": [
        "cash_flow = [-100_000, 25000, 25000, 25000, 25000, 25000]\n",
        "\n",
        "year = [i for i in range(len(cash_flow))]\n",
        "\n",
        "#Creating a Pandas dataframe with year and cash flow columns\n",
        "cf_table = pd.DataFrame({'Year': year, \"cash_flow\": cash_flow})\n",
        "r = .07/12\n",
        "#Creating the present value column\n",
        "cf_table[\"PV\"] = cf_table['cash_flow'] / (1+r)**cf_table['Year']\n",
        "cf_table.set_index('Year')"
      ],
      "execution_count": 5,
      "outputs": [
        {
          "output_type": "execute_result",
          "data": {
            "text/html": [
              "<div>\n",
              "<style scoped>\n",
              "    .dataframe tbody tr th:only-of-type {\n",
              "        vertical-align: middle;\n",
              "    }\n",
              "\n",
              "    .dataframe tbody tr th {\n",
              "        vertical-align: top;\n",
              "    }\n",
              "\n",
              "    .dataframe thead th {\n",
              "        text-align: right;\n",
              "    }\n",
              "</style>\n",
              "<table border=\"1\" class=\"dataframe\">\n",
              "  <thead>\n",
              "    <tr style=\"text-align: right;\">\n",
              "      <th></th>\n",
              "      <th>cash_flow</th>\n",
              "      <th>PV</th>\n",
              "    </tr>\n",
              "    <tr>\n",
              "      <th>Year</th>\n",
              "      <th></th>\n",
              "      <th></th>\n",
              "    </tr>\n",
              "  </thead>\n",
              "  <tbody>\n",
              "    <tr>\n",
              "      <th>0</th>\n",
              "      <td>-100000</td>\n",
              "      <td>-100000.000000</td>\n",
              "    </tr>\n",
              "    <tr>\n",
              "      <th>1</th>\n",
              "      <td>25000</td>\n",
              "      <td>24855.012428</td>\n",
              "    </tr>\n",
              "    <tr>\n",
              "      <th>2</th>\n",
              "      <td>25000</td>\n",
              "      <td>24710.865711</td>\n",
              "    </tr>\n",
              "    <tr>\n",
              "      <th>3</th>\n",
              "      <td>25000</td>\n",
              "      <td>24567.554974</td>\n",
              "    </tr>\n",
              "    <tr>\n",
              "      <th>4</th>\n",
              "      <td>25000</td>\n",
              "      <td>24425.075367</td>\n",
              "    </tr>\n",
              "    <tr>\n",
              "      <th>5</th>\n",
              "      <td>25000</td>\n",
              "      <td>24283.422072</td>\n",
              "    </tr>\n",
              "  </tbody>\n",
              "</table>\n",
              "</div>"
            ],
            "text/plain": [
              "      cash_flow             PV\n",
              "Year                          \n",
              "0       -100000 -100000.000000\n",
              "1         25000   24855.012428\n",
              "2         25000   24710.865711\n",
              "3         25000   24567.554974\n",
              "4         25000   24425.075367\n",
              "5         25000   24283.422072"
            ]
          },
          "metadata": {
            "tags": []
          },
          "execution_count": 5
        }
      ]
    },
    {
      "cell_type": "markdown",
      "metadata": {
        "id": "6rPT8go1YNvx"
      },
      "source": [
        "Now we can solve for the npv by using the sum function on the column."
      ]
    },
    {
      "cell_type": "code",
      "metadata": {
        "colab": {
          "base_uri": "https://localhost:8080/"
        },
        "id": "kGuohS_AWRcq",
        "outputId": "7d0975de-33a7-44fb-852f-06bad6491e47"
      },
      "source": [
        "#Calculating NPV as the sum of the PV column\n",
        "npv = cf_table[\"PV\"].sum()\n",
        "print('The NPV for this project is: ${:,.2f}.'.format(np.round(npv,0)))"
      ],
      "execution_count": 7,
      "outputs": [
        {
          "output_type": "stream",
          "text": [
            "The NPV for this project is: $22,842.00.\n"
          ],
          "name": "stdout"
        }
      ]
    },
    {
      "cell_type": "markdown",
      "metadata": {
        "id": "95mq-8KGmRqg"
      },
      "source": [
        "\n",
        "One of the most widely used libraries in Python is Numpy. Numpy utilizes scientific computing to aid in data analysis, data science, and even scientific experiments. However, there is another library related to Numpy that focuses on traditional financial concepts. This library is called Numpy Financial.\n",
        "\n",
        "First we must install the Numpy Financial package. To install packages in Jupyter notebooks or google colab, we must first type in an exclamation point in order to access the console, then type \"pip install numpy_financial\""
      ]
    },
    {
      "cell_type": "code",
      "metadata": {
        "colab": {
          "base_uri": "https://localhost:8080/"
        },
        "id": "TJIugQLNl0qs",
        "outputId": "b4abad16-3a91-4374-e5d9-e694aa6a0d7c"
      },
      "source": [
        "!pip install numpy_financial"
      ],
      "execution_count": 10,
      "outputs": [
        {
          "output_type": "stream",
          "text": [
            "Collecting numpy_financial\n",
            "  Downloading https://files.pythonhosted.org/packages/6a/be/d07585e440d58835bad8f1c9ca7823b5252ffeda4c797e653a20215fca65/numpy_financial-1.0.0-py3-none-any.whl\n",
            "Requirement already satisfied: numpy>=1.15 in /usr/local/lib/python3.7/dist-packages (from numpy_financial) (1.19.5)\n",
            "Installing collected packages: numpy-financial\n",
            "Successfully installed numpy-financial-1.0.0\n"
          ],
          "name": "stdout"
        }
      ]
    },
    {
      "cell_type": "code",
      "metadata": {
        "id": "m5CnF10cl4Z9"
      },
      "source": [
        "import numpy_financial as npf"
      ],
      "execution_count": 11,
      "outputs": []
    },
    {
      "cell_type": "markdown",
      "metadata": {
        "id": "iWRUH9-jaKSg"
      },
      "source": [
        "Now let's calculating NPV with Numpy Financial"
      ]
    },
    {
      "cell_type": "code",
      "metadata": {
        "colab": {
          "base_uri": "https://localhost:8080/"
        },
        "id": "2_VqSk4oa_Ky",
        "outputId": "897f833e-31ca-4922-9d1c-8c8b396f5515"
      },
      "source": [
        "rate = .07/12\n",
        "\n",
        "CFs = [-100_000, 25000, 25000, 25000, 25000, 25000]\n",
        "\n",
        "npv = npf.npv(rate, CFs)\n",
        "\n",
        "print('The NPV for this project is: ${:,.2f}.'.format(np.round(npv,0)))"
      ],
      "execution_count": null,
      "outputs": [
        {
          "output_type": "stream",
          "text": [
            "The NPV for this project is: $22,842.00.\n"
          ],
          "name": "stdout"
        }
      ]
    },
    {
      "cell_type": "markdown",
      "metadata": {
        "id": "xkZJvkFHocFZ"
      },
      "source": [
        "Utilizing packages like NPF makes it much easier to write code to perform these functions for you."
      ]
    },
    {
      "cell_type": "markdown",
      "metadata": {
        "id": "UtgeqdeXo5uo"
      },
      "source": [
        "If you are used to doing TVM calculations in Excel, you may have noticed that our Python output is a little different than the Excel output.\n",
        "\n",
        "When calculated in the same manner in Excel, our NPV will be $22,709. Is NPF wrong? Is Excel wrong? The answer to both of these questions is no.\n",
        "\n",
        "They are both correct, however, they are both answers to different questions.\n",
        "\n",
        "The difference lies in the way that Python and Excel use indexes. In python, the first value in a list is given the index 0, whereas in Excel, the first value in a range is given the index 1. Meaning that in Python, our first cashflow is given and exponent of t=0, and in Excel, the first cash flow is given the exponent of t=1. Effectively meaning that in python, our first value is the starting cash value, and in Excel, our starting cash value is zero, and the first cash flow is after the first period.\n",
        "\n",
        "The following code displays a bit of how this works."
      ]
    },
    {
      "cell_type": "code",
      "metadata": {
        "colab": {
          "base_uri": "https://localhost:8080/"
        },
        "id": "tA5naTjKm3hL",
        "outputId": "3602ee60-033b-42ee-fd59-93875b17cbd6"
      },
      "source": [
        "rate = .07/12\n",
        "\n",
        "CFs = [-100_000, 25000, 25000, 25000, 25000, 25000]\n",
        "\n",
        "npv_output = npf.npv(rate, CFs)\n",
        "\n",
        "print('The NPV for this project is: ${:,.2f}.'.format(np.round(npv_output,0)))\n",
        "\n",
        "for k, v in enumerate(CFs):\n",
        "  print('CF{}'.format(k), v)"
      ],
      "execution_count": null,
      "outputs": [
        {
          "output_type": "stream",
          "text": [
            "The NPV for this project is: $22,842.00.\n",
            "CF0 -100000\n",
            "CF1 25000\n",
            "CF2 25000\n",
            "CF3 25000\n",
            "CF4 25000\n",
            "CF5 25000\n"
          ],
          "name": "stdout"
        }
      ]
    },
    {
      "cell_type": "markdown",
      "metadata": {
        "id": "4PmHrpQErwam"
      },
      "source": [
        "Notice that in our output, the first cash flow is at index 0, therefore being discounted by 0. To replicate the Excel output, we can simply insert 0 as the first value in our list"
      ]
    },
    {
      "cell_type": "code",
      "metadata": {
        "colab": {
          "base_uri": "https://localhost:8080/"
        },
        "id": "GsCl0Q1Dr915",
        "outputId": "f70047c7-89b0-4c11-a0b9-7ade0bbd4145"
      },
      "source": [
        "rate = .07/12\n",
        "\n",
        "CFs = [0, -100_000, 25000, 25000, 25000, 25000, 25000]\n",
        "\n",
        "npv_output = npv_output = npf.npv(rate, CFs)\n",
        "\n",
        "print('The NPV for this project is: ${:,.2f}.'.format(np.round(npv_output,0)))\n",
        "\n",
        "for k, v in enumerate(CFs):\n",
        "  print('CF{}'.format(k), v)"
      ],
      "execution_count": null,
      "outputs": [
        {
          "output_type": "stream",
          "text": [
            "The NPV for this project is: $22,709.00.\n",
            "CF0 0\n",
            "CF1 -100000\n",
            "CF2 25000\n",
            "CF3 25000\n",
            "CF4 25000\n",
            "CF5 25000\n",
            "CF6 25000\n"
          ],
          "name": "stdout"
        }
      ]
    },
    {
      "cell_type": "markdown",
      "metadata": {
        "id": "0YcvtlVZskMp"
      },
      "source": [
        "In excel, this can be remedied by adding back your inital cash value to the NPV output."
      ]
    },
    {
      "cell_type": "markdown",
      "metadata": {
        "id": "N-ovuoQ9dDcm"
      },
      "source": [
        "Now let's use NPF to calculate IRR. IRR is simply the rate of return of the stream of cash flows, or the discount rate when the NPV is equal to Zero."
      ]
    },
    {
      "cell_type": "code",
      "metadata": {
        "colab": {
          "base_uri": "https://localhost:8080/"
        },
        "id": "687IzaAUdMvS",
        "outputId": "276351ad-bf3a-45dc-e809-34e8eae7a34a"
      },
      "source": [
        "irr_output = npf.irr(cash_flow)\n",
        "print('The IRR for this project is: {:.2%}.'.format(round((irr_output),2)))"
      ],
      "execution_count": null,
      "outputs": [
        {
          "output_type": "stream",
          "text": [
            "The IRR for this project is: 8.00%.\n"
          ],
          "name": "stdout"
        }
      ]
    },
    {
      "cell_type": "markdown",
      "metadata": {
        "id": "EqvumOrEezHl"
      },
      "source": [
        "Time value of money calculations are very easy with the NPF library. Let's calculate the future value of an annuity using the Numpy_Financial FV function. It's just like using a finnacial calculator or Excel."
      ]
    },
    {
      "cell_type": "code",
      "metadata": {
        "colab": {
          "base_uri": "https://localhost:8080/"
        },
        "id": "Ftu9BBqRdst0",
        "outputId": "bc691b4f-a2f2-4d8a-d2c1-49da4e6f167f"
      },
      "source": [
        "present_value = -5000\n",
        "num_periods = 20\n",
        "rate = .07\n",
        "pmt = 0\n",
        "\n",
        "future_value = npf.fv(rate=rate, nper=num_periods, pmt=pmt, pv=present_value)\n",
        "\n",
        "print(\"The future value of this annuity is: ${:,.2f}.\".format(future_value))"
      ],
      "execution_count": null,
      "outputs": [
        {
          "output_type": "stream",
          "text": [
            "The future value of this annuity is: $19,348.42.\n"
          ],
          "name": "stdout"
        }
      ]
    },
    {
      "cell_type": "markdown",
      "metadata": {
        "id": "qJ1QcUbY-zln"
      },
      "source": [
        "Present Value"
      ]
    },
    {
      "cell_type": "code",
      "metadata": {
        "colab": {
          "base_uri": "https://localhost:8080/"
        },
        "id": "QgzTKZ10gb_v",
        "outputId": "af1fa97a-fec2-4610-c71d-1d89c94e2d32"
      },
      "source": [
        "future_value = 19348.42\n",
        "present_value = npf.pv(rate=rate, nper=num_periods, pmt=pmt, fv=future_value)\n",
        "\n",
        "print(\"The present value of this annuity is: ${:,.2f}.\".format(present_value))"
      ],
      "execution_count": null,
      "outputs": [
        {
          "output_type": "stream",
          "text": [
            "The present value of this annuity is: $-5,000.00.\n"
          ],
          "name": "stdout"
        }
      ]
    },
    {
      "cell_type": "markdown",
      "metadata": {
        "id": "NiSo97sihq25"
      },
      "source": [
        "Rate"
      ]
    },
    {
      "cell_type": "code",
      "metadata": {
        "colab": {
          "base_uri": "https://localhost:8080/"
        },
        "id": "fwsqHe-tiyoO",
        "outputId": "50b3a21c-d7a5-4920-e7cc-6de60700aea9"
      },
      "source": [
        "rate = npf.rate(nper=num_periods, pmt=pmt, fv=future_value, pv=present_value)\n",
        "print('{:.2%}'.format(rate))"
      ],
      "execution_count": null,
      "outputs": [
        {
          "output_type": "stream",
          "text": [
            "7.00%\n"
          ],
          "name": "stdout"
        }
      ]
    },
    {
      "cell_type": "markdown",
      "metadata": {
        "id": "xlXXq-XNjJxi"
      },
      "source": [
        "Payment"
      ]
    },
    {
      "cell_type": "code",
      "metadata": {
        "colab": {
          "base_uri": "https://localhost:8080/"
        },
        "id": "IndsAAXzjpm5",
        "outputId": "155b2174-ec22-4d71-9c27-9041e46eb1f0"
      },
      "source": [
        "present_value = -25000\n",
        "future_value = 50000\n",
        "num_periods = 10\n",
        "rate = .1\n",
        "when = 'end'\n",
        "pmt = npf.pmt(rate=rate, nper=num_periods, pv=present_value, fv=future_value, when=when)\n",
        "print('The payment at the end of this series of cash flows is: ${:,.2f}'.format(pmt))"
      ],
      "execution_count": null,
      "outputs": [
        {
          "output_type": "stream",
          "text": [
            "The payment at the end of this series of cash flows is: $931.37\n"
          ],
          "name": "stdout"
        }
      ]
    },
    {
      "cell_type": "markdown",
      "metadata": {
        "id": "ZJnkr4-xJm1T"
      },
      "source": [
        "Just like Excel, the Numpy Financial library has the ability to break out the PMT function into interest and principal payments with the ipmt (interest payment) and ppmt(principal payment) functions. In order to see how these functions work in depth, we can use them to create an amortization table."
      ]
    },
    {
      "cell_type": "code",
      "metadata": {
        "colab": {
          "base_uri": "https://localhost:8080/",
          "height": 700
        },
        "id": "Ku1oqCmqSQHg",
        "outputId": "862edff1-f475-4e9c-bf11-2ab12440675a"
      },
      "source": [
        "period = np.arange(20)+1\n",
        "principle = 10_000.00\n",
        "ipmt = npf.ipmt(0.07, period, 20, principle)\n",
        "ppmt = npf.ppmt(0.07, period, 20, principle)\n",
        "\n",
        "\n",
        "principle_col = []\n",
        "pmt_col = []\n",
        "ppmt_col = []\n",
        "ipmt_col = []\n",
        "\n",
        "for payment in period:\n",
        "  index = payment - 1\n",
        "  pmt_col.append(ppmt[index] + ipmt[index])\n",
        "  principle = principle + ppmt[index]\n",
        "  principle_col.append(principle)\n",
        "  ppmt_col.append(ppmt[index])\n",
        "  ipmt_col.append(ipmt[index])\n",
        "\n",
        "  # print(principle, payment, ppmt[index], ipmt[index])\n",
        "  # amortization_table\n",
        "\n",
        "amortization_table = pd.DataFrame({\n",
        "    \"Period\": period,\n",
        "    \"Payment\": pmt_col,\n",
        "    \"Principle_payment\": ppmt_col,\n",
        "    \"Interest Payment\": ipmt_col,\n",
        "    \"Principle\": principle_col,\n",
        "})\n",
        "\n",
        "amortization_table.set_index('Period')"
      ],
      "execution_count": 12,
      "outputs": [
        {
          "output_type": "execute_result",
          "data": {
            "text/html": [
              "<div>\n",
              "<style scoped>\n",
              "    .dataframe tbody tr th:only-of-type {\n",
              "        vertical-align: middle;\n",
              "    }\n",
              "\n",
              "    .dataframe tbody tr th {\n",
              "        vertical-align: top;\n",
              "    }\n",
              "\n",
              "    .dataframe thead th {\n",
              "        text-align: right;\n",
              "    }\n",
              "</style>\n",
              "<table border=\"1\" class=\"dataframe\">\n",
              "  <thead>\n",
              "    <tr style=\"text-align: right;\">\n",
              "      <th></th>\n",
              "      <th>Payment</th>\n",
              "      <th>Principle_payment</th>\n",
              "      <th>Interest Payment</th>\n",
              "      <th>Principle</th>\n",
              "    </tr>\n",
              "    <tr>\n",
              "      <th>Period</th>\n",
              "      <th></th>\n",
              "      <th></th>\n",
              "      <th></th>\n",
              "      <th></th>\n",
              "    </tr>\n",
              "  </thead>\n",
              "  <tbody>\n",
              "    <tr>\n",
              "      <th>1</th>\n",
              "      <td>-943.929257</td>\n",
              "      <td>-243.929257</td>\n",
              "      <td>-700.000000</td>\n",
              "      <td>9.756071e+03</td>\n",
              "    </tr>\n",
              "    <tr>\n",
              "      <th>2</th>\n",
              "      <td>-943.929257</td>\n",
              "      <td>-261.004305</td>\n",
              "      <td>-682.924952</td>\n",
              "      <td>9.495066e+03</td>\n",
              "    </tr>\n",
              "    <tr>\n",
              "      <th>3</th>\n",
              "      <td>-943.929257</td>\n",
              "      <td>-279.274607</td>\n",
              "      <td>-664.654651</td>\n",
              "      <td>9.215792e+03</td>\n",
              "    </tr>\n",
              "    <tr>\n",
              "      <th>4</th>\n",
              "      <td>-943.929257</td>\n",
              "      <td>-298.823829</td>\n",
              "      <td>-645.105428</td>\n",
              "      <td>8.916968e+03</td>\n",
              "    </tr>\n",
              "    <tr>\n",
              "      <th>5</th>\n",
              "      <td>-943.929257</td>\n",
              "      <td>-319.741497</td>\n",
              "      <td>-624.187760</td>\n",
              "      <td>8.597227e+03</td>\n",
              "    </tr>\n",
              "    <tr>\n",
              "      <th>6</th>\n",
              "      <td>-943.929257</td>\n",
              "      <td>-342.123402</td>\n",
              "      <td>-601.805855</td>\n",
              "      <td>8.255103e+03</td>\n",
              "    </tr>\n",
              "    <tr>\n",
              "      <th>7</th>\n",
              "      <td>-943.929257</td>\n",
              "      <td>-366.072040</td>\n",
              "      <td>-577.857217</td>\n",
              "      <td>7.889031e+03</td>\n",
              "    </tr>\n",
              "    <tr>\n",
              "      <th>8</th>\n",
              "      <td>-943.929257</td>\n",
              "      <td>-391.697083</td>\n",
              "      <td>-552.232174</td>\n",
              "      <td>7.497334e+03</td>\n",
              "    </tr>\n",
              "    <tr>\n",
              "      <th>9</th>\n",
              "      <td>-943.929257</td>\n",
              "      <td>-419.115879</td>\n",
              "      <td>-524.813378</td>\n",
              "      <td>7.078218e+03</td>\n",
              "    </tr>\n",
              "    <tr>\n",
              "      <th>10</th>\n",
              "      <td>-943.929257</td>\n",
              "      <td>-448.453991</td>\n",
              "      <td>-495.475267</td>\n",
              "      <td>6.629764e+03</td>\n",
              "    </tr>\n",
              "    <tr>\n",
              "      <th>11</th>\n",
              "      <td>-943.929257</td>\n",
              "      <td>-479.845770</td>\n",
              "      <td>-464.083488</td>\n",
              "      <td>6.149918e+03</td>\n",
              "    </tr>\n",
              "    <tr>\n",
              "      <th>12</th>\n",
              "      <td>-943.929257</td>\n",
              "      <td>-513.434974</td>\n",
              "      <td>-430.494284</td>\n",
              "      <td>5.636483e+03</td>\n",
              "    </tr>\n",
              "    <tr>\n",
              "      <th>13</th>\n",
              "      <td>-943.929257</td>\n",
              "      <td>-549.375422</td>\n",
              "      <td>-394.553836</td>\n",
              "      <td>5.087108e+03</td>\n",
              "    </tr>\n",
              "    <tr>\n",
              "      <th>14</th>\n",
              "      <td>-943.929257</td>\n",
              "      <td>-587.831701</td>\n",
              "      <td>-356.097556</td>\n",
              "      <td>4.499276e+03</td>\n",
              "    </tr>\n",
              "    <tr>\n",
              "      <th>15</th>\n",
              "      <td>-943.929257</td>\n",
              "      <td>-628.979921</td>\n",
              "      <td>-314.949337</td>\n",
              "      <td>3.870296e+03</td>\n",
              "    </tr>\n",
              "    <tr>\n",
              "      <th>16</th>\n",
              "      <td>-943.929257</td>\n",
              "      <td>-673.008515</td>\n",
              "      <td>-270.920742</td>\n",
              "      <td>3.197288e+03</td>\n",
              "    </tr>\n",
              "    <tr>\n",
              "      <th>17</th>\n",
              "      <td>-943.929257</td>\n",
              "      <td>-720.119111</td>\n",
              "      <td>-223.810146</td>\n",
              "      <td>2.477169e+03</td>\n",
              "    </tr>\n",
              "    <tr>\n",
              "      <th>18</th>\n",
              "      <td>-943.929257</td>\n",
              "      <td>-770.527449</td>\n",
              "      <td>-173.401809</td>\n",
              "      <td>1.706641e+03</td>\n",
              "    </tr>\n",
              "    <tr>\n",
              "      <th>19</th>\n",
              "      <td>-943.929257</td>\n",
              "      <td>-824.464370</td>\n",
              "      <td>-119.464887</td>\n",
              "      <td>8.821769e+02</td>\n",
              "    </tr>\n",
              "    <tr>\n",
              "      <th>20</th>\n",
              "      <td>-943.929257</td>\n",
              "      <td>-882.176876</td>\n",
              "      <td>-61.752381</td>\n",
              "      <td>1.045919e-11</td>\n",
              "    </tr>\n",
              "  </tbody>\n",
              "</table>\n",
              "</div>"
            ],
            "text/plain": [
              "           Payment  Principle_payment  Interest Payment     Principle\n",
              "Period                                                               \n",
              "1      -943.929257        -243.929257       -700.000000  9.756071e+03\n",
              "2      -943.929257        -261.004305       -682.924952  9.495066e+03\n",
              "3      -943.929257        -279.274607       -664.654651  9.215792e+03\n",
              "4      -943.929257        -298.823829       -645.105428  8.916968e+03\n",
              "5      -943.929257        -319.741497       -624.187760  8.597227e+03\n",
              "6      -943.929257        -342.123402       -601.805855  8.255103e+03\n",
              "7      -943.929257        -366.072040       -577.857217  7.889031e+03\n",
              "8      -943.929257        -391.697083       -552.232174  7.497334e+03\n",
              "9      -943.929257        -419.115879       -524.813378  7.078218e+03\n",
              "10     -943.929257        -448.453991       -495.475267  6.629764e+03\n",
              "11     -943.929257        -479.845770       -464.083488  6.149918e+03\n",
              "12     -943.929257        -513.434974       -430.494284  5.636483e+03\n",
              "13     -943.929257        -549.375422       -394.553836  5.087108e+03\n",
              "14     -943.929257        -587.831701       -356.097556  4.499276e+03\n",
              "15     -943.929257        -628.979921       -314.949337  3.870296e+03\n",
              "16     -943.929257        -673.008515       -270.920742  3.197288e+03\n",
              "17     -943.929257        -720.119111       -223.810146  2.477169e+03\n",
              "18     -943.929257        -770.527449       -173.401809  1.706641e+03\n",
              "19     -943.929257        -824.464370       -119.464887  8.821769e+02\n",
              "20     -943.929257        -882.176876        -61.752381  1.045919e-11"
            ]
          },
          "metadata": {
            "tags": []
          },
          "execution_count": 12
        }
      ]
    },
    {
      "cell_type": "markdown",
      "metadata": {
        "id": "Dz89Yc1OZdy2"
      },
      "source": [
        "The payment function incorporates the growth rate after each period based on the new beginning period value after the previous payment. A good way to understand how this works is to create an earnings breakout table. \n",
        "\n",
        "Let's make a table showing what would happen if you maxed out your Roth IRA contributions starting at age 35 and retired at age 65."
      ]
    },
    {
      "cell_type": "code",
      "metadata": {
        "id": "IwWj4R4eA5V4"
      },
      "source": [
        "import datetime as dt"
      ],
      "execution_count": 13,
      "outputs": []
    },
    {
      "cell_type": "code",
      "metadata": {
        "id": "8Z8gPtK0xNzN"
      },
      "source": [
        "def payout_schedule(start_age, contribution_amt, age_dist_beg=65, rate=.08, death_age=85):\n",
        "  pd.set_option('display.float_format', lambda x: '$%.0f' % x)\n",
        "  pd.set_option('display.max_rows', None)\n",
        "\n",
        "  age = []\n",
        "  deposit = []\n",
        "  BOY_balance = []\n",
        "  BOY_distribution = []\n",
        "  BOY_balance_less_dist = []\n",
        "  earnings = []\n",
        "  EOY_balance = []\n",
        "\n",
        "  age_dist_beg + 1\n",
        "\n",
        "  contributions = age_dist_beg - start_age\n",
        "  rate = .08\n",
        "  death_age = 85\n",
        "  dist_num = death_age - age_dist_beg + 1\n",
        "\n",
        "  plan_year=list(range(1,death_age - start_age + 2))\n",
        "  calendar_year = []\n",
        "\n",
        "  annual_dist=0\n",
        "  for year in plan_year:\n",
        "\n",
        "    #age\n",
        "    age.append(start_age+year-1)\n",
        "\n",
        "    #calendar year\n",
        "    if year == 0:\n",
        "      calendar_year.append(dt.datetime.today())\n",
        "    else:\n",
        "      calendar_year.append(dt.datetime.today() + dt.timedelta(days=(year-1)*365))\n",
        "\n",
        "    calendar_year[year-1] = calendar_year[year-1].strftime('%Y')\n",
        "\n",
        "    #depost\n",
        "    if year <= contributions:\n",
        "      deposit.append(contribution_amt)\n",
        "    else:\n",
        "      deposit.append(0)\n",
        "\n",
        "    #Balance at Beginning of Year\n",
        "    if year <= 1:\n",
        "      BOY_balance.append(deposit[0])\n",
        "    elif year > 1:\n",
        "      BOY_balance.append(deposit[year-1] + EOY_balance[year-2])\n",
        "    \n",
        "    #Distributions\n",
        "    if age[year-1] == age_dist_beg:\n",
        "      #Calculating Distribution\n",
        "      PV_year_dist_start = BOY_balance[year-2]\n",
        "      #Here is where we implement our payment function to calculate distributions\n",
        "      annual_dist=npf.pmt(rate,dist_num,PV_year_dist_start,0)\n",
        "\n",
        "    else:\n",
        "      pass\n",
        "\n",
        "    if age[year-1] >= age_dist_beg and age[year-1] < age_dist_beg + dist_num:\n",
        "      BOY_distribution.append(annual_dist)\n",
        "    else:\n",
        "      BOY_distribution.append(0)\n",
        "\n",
        "    #Balance at beginning of year less distribution\n",
        "    bal = BOY_balance[year-1] + BOY_distribution[year-1]\n",
        "    BOY_balance_less_dist.append(bal)\n",
        "\n",
        "    #earnings\n",
        "    earnings.append(BOY_balance_less_dist[year-1]*rate)\n",
        "    \n",
        "    #End of Year Balance\n",
        "    EOY_balance.append(BOY_balance[year-1] + earnings[year-1] + BOY_distribution[year-1])\n",
        "\n",
        "  df = pd.DataFrame({'Year': plan_year,\n",
        "              'Age': age,\n",
        "              'Calendar Year': calendar_year,\n",
        "              'Deposit': deposit,\n",
        "              'Distribution': BOY_distribution,\n",
        "              'Earnings': earnings,\n",
        "              'EOY Balance': EOY_balance,\n",
        "              })\n",
        "\n",
        "  return df"
      ],
      "execution_count": 64,
      "outputs": []
    },
    {
      "cell_type": "code",
      "metadata": {
        "colab": {
          "base_uri": "https://localhost:8080/",
          "height": 1000
        },
        "id": "vbkMcxrvNXsB",
        "outputId": "816a63d4-c7de-48c1-8ab9-d49b40f21af3"
      },
      "source": [
        "payout_schedule(25, 5500)"
      ],
      "execution_count": 65,
      "outputs": [
        {
          "output_type": "execute_result",
          "data": {
            "text/html": [
              "<div>\n",
              "<style scoped>\n",
              "    .dataframe tbody tr th:only-of-type {\n",
              "        vertical-align: middle;\n",
              "    }\n",
              "\n",
              "    .dataframe tbody tr th {\n",
              "        vertical-align: top;\n",
              "    }\n",
              "\n",
              "    .dataframe thead th {\n",
              "        text-align: right;\n",
              "    }\n",
              "</style>\n",
              "<table border=\"1\" class=\"dataframe\">\n",
              "  <thead>\n",
              "    <tr style=\"text-align: right;\">\n",
              "      <th></th>\n",
              "      <th>Year</th>\n",
              "      <th>Age</th>\n",
              "      <th>Calendar Year</th>\n",
              "      <th>Deposit</th>\n",
              "      <th>Distribution</th>\n",
              "      <th>Earnings</th>\n",
              "      <th>EOY Balance</th>\n",
              "    </tr>\n",
              "  </thead>\n",
              "  <tbody>\n",
              "    <tr>\n",
              "      <th>0</th>\n",
              "      <td>1</td>\n",
              "      <td>25</td>\n",
              "      <td>2021</td>\n",
              "      <td>5500</td>\n",
              "      <td>$0</td>\n",
              "      <td>$440</td>\n",
              "      <td>$5940</td>\n",
              "    </tr>\n",
              "    <tr>\n",
              "      <th>1</th>\n",
              "      <td>2</td>\n",
              "      <td>26</td>\n",
              "      <td>2022</td>\n",
              "      <td>5500</td>\n",
              "      <td>$0</td>\n",
              "      <td>$915</td>\n",
              "      <td>$12355</td>\n",
              "    </tr>\n",
              "    <tr>\n",
              "      <th>2</th>\n",
              "      <td>3</td>\n",
              "      <td>27</td>\n",
              "      <td>2023</td>\n",
              "      <td>5500</td>\n",
              "      <td>$0</td>\n",
              "      <td>$1428</td>\n",
              "      <td>$19284</td>\n",
              "    </tr>\n",
              "    <tr>\n",
              "      <th>3</th>\n",
              "      <td>4</td>\n",
              "      <td>28</td>\n",
              "      <td>2024</td>\n",
              "      <td>5500</td>\n",
              "      <td>$0</td>\n",
              "      <td>$1983</td>\n",
              "      <td>$26766</td>\n",
              "    </tr>\n",
              "    <tr>\n",
              "      <th>4</th>\n",
              "      <td>5</td>\n",
              "      <td>29</td>\n",
              "      <td>2025</td>\n",
              "      <td>5500</td>\n",
              "      <td>$0</td>\n",
              "      <td>$2581</td>\n",
              "      <td>$34848</td>\n",
              "    </tr>\n",
              "    <tr>\n",
              "      <th>5</th>\n",
              "      <td>6</td>\n",
              "      <td>30</td>\n",
              "      <td>2026</td>\n",
              "      <td>5500</td>\n",
              "      <td>$0</td>\n",
              "      <td>$3228</td>\n",
              "      <td>$43575</td>\n",
              "    </tr>\n",
              "    <tr>\n",
              "      <th>6</th>\n",
              "      <td>7</td>\n",
              "      <td>31</td>\n",
              "      <td>2027</td>\n",
              "      <td>5500</td>\n",
              "      <td>$0</td>\n",
              "      <td>$3926</td>\n",
              "      <td>$53001</td>\n",
              "    </tr>\n",
              "    <tr>\n",
              "      <th>7</th>\n",
              "      <td>8</td>\n",
              "      <td>32</td>\n",
              "      <td>2028</td>\n",
              "      <td>5500</td>\n",
              "      <td>$0</td>\n",
              "      <td>$4680</td>\n",
              "      <td>$63182</td>\n",
              "    </tr>\n",
              "    <tr>\n",
              "      <th>8</th>\n",
              "      <td>9</td>\n",
              "      <td>33</td>\n",
              "      <td>2029</td>\n",
              "      <td>5500</td>\n",
              "      <td>$0</td>\n",
              "      <td>$5495</td>\n",
              "      <td>$74176</td>\n",
              "    </tr>\n",
              "    <tr>\n",
              "      <th>9</th>\n",
              "      <td>10</td>\n",
              "      <td>34</td>\n",
              "      <td>2030</td>\n",
              "      <td>5500</td>\n",
              "      <td>$0</td>\n",
              "      <td>$6374</td>\n",
              "      <td>$86050</td>\n",
              "    </tr>\n",
              "    <tr>\n",
              "      <th>10</th>\n",
              "      <td>11</td>\n",
              "      <td>35</td>\n",
              "      <td>2031</td>\n",
              "      <td>5500</td>\n",
              "      <td>$0</td>\n",
              "      <td>$7324</td>\n",
              "      <td>$98874</td>\n",
              "    </tr>\n",
              "    <tr>\n",
              "      <th>11</th>\n",
              "      <td>12</td>\n",
              "      <td>36</td>\n",
              "      <td>2032</td>\n",
              "      <td>5500</td>\n",
              "      <td>$0</td>\n",
              "      <td>$8350</td>\n",
              "      <td>$112724</td>\n",
              "    </tr>\n",
              "    <tr>\n",
              "      <th>12</th>\n",
              "      <td>13</td>\n",
              "      <td>37</td>\n",
              "      <td>2033</td>\n",
              "      <td>5500</td>\n",
              "      <td>$0</td>\n",
              "      <td>$9458</td>\n",
              "      <td>$127682</td>\n",
              "    </tr>\n",
              "    <tr>\n",
              "      <th>13</th>\n",
              "      <td>14</td>\n",
              "      <td>38</td>\n",
              "      <td>2034</td>\n",
              "      <td>5500</td>\n",
              "      <td>$0</td>\n",
              "      <td>$10655</td>\n",
              "      <td>$143837</td>\n",
              "    </tr>\n",
              "    <tr>\n",
              "      <th>14</th>\n",
              "      <td>15</td>\n",
              "      <td>39</td>\n",
              "      <td>2035</td>\n",
              "      <td>5500</td>\n",
              "      <td>$0</td>\n",
              "      <td>$11947</td>\n",
              "      <td>$161284</td>\n",
              "    </tr>\n",
              "    <tr>\n",
              "      <th>15</th>\n",
              "      <td>16</td>\n",
              "      <td>40</td>\n",
              "      <td>2036</td>\n",
              "      <td>5500</td>\n",
              "      <td>$0</td>\n",
              "      <td>$13343</td>\n",
              "      <td>$180126</td>\n",
              "    </tr>\n",
              "    <tr>\n",
              "      <th>16</th>\n",
              "      <td>17</td>\n",
              "      <td>41</td>\n",
              "      <td>2037</td>\n",
              "      <td>5500</td>\n",
              "      <td>$0</td>\n",
              "      <td>$14850</td>\n",
              "      <td>$200476</td>\n",
              "    </tr>\n",
              "    <tr>\n",
              "      <th>17</th>\n",
              "      <td>18</td>\n",
              "      <td>42</td>\n",
              "      <td>2038</td>\n",
              "      <td>5500</td>\n",
              "      <td>$0</td>\n",
              "      <td>$16478</td>\n",
              "      <td>$222454</td>\n",
              "    </tr>\n",
              "    <tr>\n",
              "      <th>18</th>\n",
              "      <td>19</td>\n",
              "      <td>43</td>\n",
              "      <td>2039</td>\n",
              "      <td>5500</td>\n",
              "      <td>$0</td>\n",
              "      <td>$18236</td>\n",
              "      <td>$246191</td>\n",
              "    </tr>\n",
              "    <tr>\n",
              "      <th>19</th>\n",
              "      <td>20</td>\n",
              "      <td>44</td>\n",
              "      <td>2040</td>\n",
              "      <td>5500</td>\n",
              "      <td>$0</td>\n",
              "      <td>$20135</td>\n",
              "      <td>$271826</td>\n",
              "    </tr>\n",
              "    <tr>\n",
              "      <th>20</th>\n",
              "      <td>21</td>\n",
              "      <td>45</td>\n",
              "      <td>2041</td>\n",
              "      <td>5500</td>\n",
              "      <td>$0</td>\n",
              "      <td>$22186</td>\n",
              "      <td>$299512</td>\n",
              "    </tr>\n",
              "    <tr>\n",
              "      <th>21</th>\n",
              "      <td>22</td>\n",
              "      <td>46</td>\n",
              "      <td>2042</td>\n",
              "      <td>5500</td>\n",
              "      <td>$0</td>\n",
              "      <td>$24401</td>\n",
              "      <td>$329413</td>\n",
              "    </tr>\n",
              "    <tr>\n",
              "      <th>22</th>\n",
              "      <td>23</td>\n",
              "      <td>47</td>\n",
              "      <td>2043</td>\n",
              "      <td>5500</td>\n",
              "      <td>$0</td>\n",
              "      <td>$26793</td>\n",
              "      <td>$361706</td>\n",
              "    </tr>\n",
              "    <tr>\n",
              "      <th>23</th>\n",
              "      <td>24</td>\n",
              "      <td>48</td>\n",
              "      <td>2044</td>\n",
              "      <td>5500</td>\n",
              "      <td>$0</td>\n",
              "      <td>$29376</td>\n",
              "      <td>$396583</td>\n",
              "    </tr>\n",
              "    <tr>\n",
              "      <th>24</th>\n",
              "      <td>25</td>\n",
              "      <td>49</td>\n",
              "      <td>2045</td>\n",
              "      <td>5500</td>\n",
              "      <td>$0</td>\n",
              "      <td>$32167</td>\n",
              "      <td>$434249</td>\n",
              "    </tr>\n",
              "    <tr>\n",
              "      <th>25</th>\n",
              "      <td>26</td>\n",
              "      <td>50</td>\n",
              "      <td>2046</td>\n",
              "      <td>5500</td>\n",
              "      <td>$0</td>\n",
              "      <td>$35180</td>\n",
              "      <td>$474929</td>\n",
              "    </tr>\n",
              "    <tr>\n",
              "      <th>26</th>\n",
              "      <td>27</td>\n",
              "      <td>51</td>\n",
              "      <td>2047</td>\n",
              "      <td>5500</td>\n",
              "      <td>$0</td>\n",
              "      <td>$38434</td>\n",
              "      <td>$518864</td>\n",
              "    </tr>\n",
              "    <tr>\n",
              "      <th>27</th>\n",
              "      <td>28</td>\n",
              "      <td>52</td>\n",
              "      <td>2048</td>\n",
              "      <td>5500</td>\n",
              "      <td>$0</td>\n",
              "      <td>$41949</td>\n",
              "      <td>$566313</td>\n",
              "    </tr>\n",
              "    <tr>\n",
              "      <th>28</th>\n",
              "      <td>29</td>\n",
              "      <td>53</td>\n",
              "      <td>2049</td>\n",
              "      <td>5500</td>\n",
              "      <td>$0</td>\n",
              "      <td>$45745</td>\n",
              "      <td>$617558</td>\n",
              "    </tr>\n",
              "    <tr>\n",
              "      <th>29</th>\n",
              "      <td>30</td>\n",
              "      <td>54</td>\n",
              "      <td>2050</td>\n",
              "      <td>5500</td>\n",
              "      <td>$0</td>\n",
              "      <td>$49845</td>\n",
              "      <td>$672902</td>\n",
              "    </tr>\n",
              "    <tr>\n",
              "      <th>30</th>\n",
              "      <td>31</td>\n",
              "      <td>55</td>\n",
              "      <td>2051</td>\n",
              "      <td>5500</td>\n",
              "      <td>$0</td>\n",
              "      <td>$54272</td>\n",
              "      <td>$732674</td>\n",
              "    </tr>\n",
              "    <tr>\n",
              "      <th>31</th>\n",
              "      <td>32</td>\n",
              "      <td>56</td>\n",
              "      <td>2052</td>\n",
              "      <td>5500</td>\n",
              "      <td>$0</td>\n",
              "      <td>$59054</td>\n",
              "      <td>$797228</td>\n",
              "    </tr>\n",
              "    <tr>\n",
              "      <th>32</th>\n",
              "      <td>33</td>\n",
              "      <td>57</td>\n",
              "      <td>2053</td>\n",
              "      <td>5500</td>\n",
              "      <td>$0</td>\n",
              "      <td>$64218</td>\n",
              "      <td>$866947</td>\n",
              "    </tr>\n",
              "    <tr>\n",
              "      <th>33</th>\n",
              "      <td>34</td>\n",
              "      <td>58</td>\n",
              "      <td>2054</td>\n",
              "      <td>5500</td>\n",
              "      <td>$0</td>\n",
              "      <td>$69796</td>\n",
              "      <td>$942242</td>\n",
              "    </tr>\n",
              "    <tr>\n",
              "      <th>34</th>\n",
              "      <td>35</td>\n",
              "      <td>59</td>\n",
              "      <td>2055</td>\n",
              "      <td>5500</td>\n",
              "      <td>$0</td>\n",
              "      <td>$75819</td>\n",
              "      <td>$1023562</td>\n",
              "    </tr>\n",
              "    <tr>\n",
              "      <th>35</th>\n",
              "      <td>36</td>\n",
              "      <td>60</td>\n",
              "      <td>2056</td>\n",
              "      <td>5500</td>\n",
              "      <td>$0</td>\n",
              "      <td>$82325</td>\n",
              "      <td>$1111387</td>\n",
              "    </tr>\n",
              "    <tr>\n",
              "      <th>36</th>\n",
              "      <td>37</td>\n",
              "      <td>61</td>\n",
              "      <td>2057</td>\n",
              "      <td>5500</td>\n",
              "      <td>$0</td>\n",
              "      <td>$89351</td>\n",
              "      <td>$1206238</td>\n",
              "    </tr>\n",
              "    <tr>\n",
              "      <th>37</th>\n",
              "      <td>38</td>\n",
              "      <td>62</td>\n",
              "      <td>2058</td>\n",
              "      <td>5500</td>\n",
              "      <td>$0</td>\n",
              "      <td>$96939</td>\n",
              "      <td>$1308677</td>\n",
              "    </tr>\n",
              "    <tr>\n",
              "      <th>38</th>\n",
              "      <td>39</td>\n",
              "      <td>63</td>\n",
              "      <td>2059</td>\n",
              "      <td>5500</td>\n",
              "      <td>$0</td>\n",
              "      <td>$105134</td>\n",
              "      <td>$1419311</td>\n",
              "    </tr>\n",
              "    <tr>\n",
              "      <th>39</th>\n",
              "      <td>40</td>\n",
              "      <td>64</td>\n",
              "      <td>2060</td>\n",
              "      <td>5500</td>\n",
              "      <td>$0</td>\n",
              "      <td>$113985</td>\n",
              "      <td>$1538796</td>\n",
              "    </tr>\n",
              "    <tr>\n",
              "      <th>40</th>\n",
              "      <td>41</td>\n",
              "      <td>65</td>\n",
              "      <td>2061</td>\n",
              "      <td>0</td>\n",
              "      <td>$-142242</td>\n",
              "      <td>$111724</td>\n",
              "      <td>$1508278</td>\n",
              "    </tr>\n",
              "    <tr>\n",
              "      <th>41</th>\n",
              "      <td>42</td>\n",
              "      <td>66</td>\n",
              "      <td>2062</td>\n",
              "      <td>0</td>\n",
              "      <td>$-142242</td>\n",
              "      <td>$109283</td>\n",
              "      <td>$1475319</td>\n",
              "    </tr>\n",
              "    <tr>\n",
              "      <th>42</th>\n",
              "      <td>43</td>\n",
              "      <td>67</td>\n",
              "      <td>2063</td>\n",
              "      <td>0</td>\n",
              "      <td>$-142242</td>\n",
              "      <td>$106646</td>\n",
              "      <td>$1439723</td>\n",
              "    </tr>\n",
              "    <tr>\n",
              "      <th>43</th>\n",
              "      <td>44</td>\n",
              "      <td>68</td>\n",
              "      <td>2064</td>\n",
              "      <td>0</td>\n",
              "      <td>$-142242</td>\n",
              "      <td>$103798</td>\n",
              "      <td>$1401279</td>\n",
              "    </tr>\n",
              "    <tr>\n",
              "      <th>44</th>\n",
              "      <td>45</td>\n",
              "      <td>69</td>\n",
              "      <td>2065</td>\n",
              "      <td>0</td>\n",
              "      <td>$-142242</td>\n",
              "      <td>$100723</td>\n",
              "      <td>$1359760</td>\n",
              "    </tr>\n",
              "    <tr>\n",
              "      <th>45</th>\n",
              "      <td>46</td>\n",
              "      <td>70</td>\n",
              "      <td>2066</td>\n",
              "      <td>0</td>\n",
              "      <td>$-142242</td>\n",
              "      <td>$97401</td>\n",
              "      <td>$1314919</td>\n",
              "    </tr>\n",
              "    <tr>\n",
              "      <th>46</th>\n",
              "      <td>47</td>\n",
              "      <td>71</td>\n",
              "      <td>2067</td>\n",
              "      <td>0</td>\n",
              "      <td>$-142242</td>\n",
              "      <td>$93814</td>\n",
              "      <td>$1266492</td>\n",
              "    </tr>\n",
              "    <tr>\n",
              "      <th>47</th>\n",
              "      <td>48</td>\n",
              "      <td>72</td>\n",
              "      <td>2068</td>\n",
              "      <td>0</td>\n",
              "      <td>$-142242</td>\n",
              "      <td>$89940</td>\n",
              "      <td>$1214189</td>\n",
              "    </tr>\n",
              "    <tr>\n",
              "      <th>48</th>\n",
              "      <td>49</td>\n",
              "      <td>73</td>\n",
              "      <td>2069</td>\n",
              "      <td>0</td>\n",
              "      <td>$-142242</td>\n",
              "      <td>$85756</td>\n",
              "      <td>$1157703</td>\n",
              "    </tr>\n",
              "    <tr>\n",
              "      <th>49</th>\n",
              "      <td>50</td>\n",
              "      <td>74</td>\n",
              "      <td>2070</td>\n",
              "      <td>0</td>\n",
              "      <td>$-142242</td>\n",
              "      <td>$81237</td>\n",
              "      <td>$1096698</td>\n",
              "    </tr>\n",
              "    <tr>\n",
              "      <th>50</th>\n",
              "      <td>51</td>\n",
              "      <td>75</td>\n",
              "      <td>2071</td>\n",
              "      <td>0</td>\n",
              "      <td>$-142242</td>\n",
              "      <td>$76356</td>\n",
              "      <td>$1030812</td>\n",
              "    </tr>\n",
              "    <tr>\n",
              "      <th>51</th>\n",
              "      <td>52</td>\n",
              "      <td>76</td>\n",
              "      <td>2072</td>\n",
              "      <td>0</td>\n",
              "      <td>$-142242</td>\n",
              "      <td>$71086</td>\n",
              "      <td>$959656</td>\n",
              "    </tr>\n",
              "    <tr>\n",
              "      <th>52</th>\n",
              "      <td>53</td>\n",
              "      <td>77</td>\n",
              "      <td>2073</td>\n",
              "      <td>0</td>\n",
              "      <td>$-142242</td>\n",
              "      <td>$65393</td>\n",
              "      <td>$882807</td>\n",
              "    </tr>\n",
              "    <tr>\n",
              "      <th>53</th>\n",
              "      <td>54</td>\n",
              "      <td>78</td>\n",
              "      <td>2074</td>\n",
              "      <td>0</td>\n",
              "      <td>$-142242</td>\n",
              "      <td>$59245</td>\n",
              "      <td>$799810</td>\n",
              "    </tr>\n",
              "    <tr>\n",
              "      <th>54</th>\n",
              "      <td>55</td>\n",
              "      <td>79</td>\n",
              "      <td>2075</td>\n",
              "      <td>0</td>\n",
              "      <td>$-142242</td>\n",
              "      <td>$52605</td>\n",
              "      <td>$710173</td>\n",
              "    </tr>\n",
              "    <tr>\n",
              "      <th>55</th>\n",
              "      <td>56</td>\n",
              "      <td>80</td>\n",
              "      <td>2076</td>\n",
              "      <td>0</td>\n",
              "      <td>$-142242</td>\n",
              "      <td>$45435</td>\n",
              "      <td>$613366</td>\n",
              "    </tr>\n",
              "    <tr>\n",
              "      <th>56</th>\n",
              "      <td>57</td>\n",
              "      <td>81</td>\n",
              "      <td>2077</td>\n",
              "      <td>0</td>\n",
              "      <td>$-142242</td>\n",
              "      <td>$37690</td>\n",
              "      <td>$508814</td>\n",
              "    </tr>\n",
              "    <tr>\n",
              "      <th>57</th>\n",
              "      <td>58</td>\n",
              "      <td>82</td>\n",
              "      <td>2078</td>\n",
              "      <td>0</td>\n",
              "      <td>$-142242</td>\n",
              "      <td>$29326</td>\n",
              "      <td>$395897</td>\n",
              "    </tr>\n",
              "    <tr>\n",
              "      <th>58</th>\n",
              "      <td>59</td>\n",
              "      <td>83</td>\n",
              "      <td>2079</td>\n",
              "      <td>0</td>\n",
              "      <td>$-142242</td>\n",
              "      <td>$20292</td>\n",
              "      <td>$273948</td>\n",
              "    </tr>\n",
              "    <tr>\n",
              "      <th>59</th>\n",
              "      <td>60</td>\n",
              "      <td>84</td>\n",
              "      <td>2080</td>\n",
              "      <td>0</td>\n",
              "      <td>$-142242</td>\n",
              "      <td>$10536</td>\n",
              "      <td>$142242</td>\n",
              "    </tr>\n",
              "    <tr>\n",
              "      <th>60</th>\n",
              "      <td>61</td>\n",
              "      <td>85</td>\n",
              "      <td>2081</td>\n",
              "      <td>0</td>\n",
              "      <td>$-142242</td>\n",
              "      <td>$0</td>\n",
              "      <td>$0</td>\n",
              "    </tr>\n",
              "  </tbody>\n",
              "</table>\n",
              "</div>"
            ],
            "text/plain": [
              "    Year  Age Calendar Year  Deposit  Distribution  Earnings  EOY Balance\n",
              "0      1   25          2021     5500            $0      $440        $5940\n",
              "1      2   26          2022     5500            $0      $915       $12355\n",
              "2      3   27          2023     5500            $0     $1428       $19284\n",
              "3      4   28          2024     5500            $0     $1983       $26766\n",
              "4      5   29          2025     5500            $0     $2581       $34848\n",
              "5      6   30          2026     5500            $0     $3228       $43575\n",
              "6      7   31          2027     5500            $0     $3926       $53001\n",
              "7      8   32          2028     5500            $0     $4680       $63182\n",
              "8      9   33          2029     5500            $0     $5495       $74176\n",
              "9     10   34          2030     5500            $0     $6374       $86050\n",
              "10    11   35          2031     5500            $0     $7324       $98874\n",
              "11    12   36          2032     5500            $0     $8350      $112724\n",
              "12    13   37          2033     5500            $0     $9458      $127682\n",
              "13    14   38          2034     5500            $0    $10655      $143837\n",
              "14    15   39          2035     5500            $0    $11947      $161284\n",
              "15    16   40          2036     5500            $0    $13343      $180126\n",
              "16    17   41          2037     5500            $0    $14850      $200476\n",
              "17    18   42          2038     5500            $0    $16478      $222454\n",
              "18    19   43          2039     5500            $0    $18236      $246191\n",
              "19    20   44          2040     5500            $0    $20135      $271826\n",
              "20    21   45          2041     5500            $0    $22186      $299512\n",
              "21    22   46          2042     5500            $0    $24401      $329413\n",
              "22    23   47          2043     5500            $0    $26793      $361706\n",
              "23    24   48          2044     5500            $0    $29376      $396583\n",
              "24    25   49          2045     5500            $0    $32167      $434249\n",
              "25    26   50          2046     5500            $0    $35180      $474929\n",
              "26    27   51          2047     5500            $0    $38434      $518864\n",
              "27    28   52          2048     5500            $0    $41949      $566313\n",
              "28    29   53          2049     5500            $0    $45745      $617558\n",
              "29    30   54          2050     5500            $0    $49845      $672902\n",
              "30    31   55          2051     5500            $0    $54272      $732674\n",
              "31    32   56          2052     5500            $0    $59054      $797228\n",
              "32    33   57          2053     5500            $0    $64218      $866947\n",
              "33    34   58          2054     5500            $0    $69796      $942242\n",
              "34    35   59          2055     5500            $0    $75819     $1023562\n",
              "35    36   60          2056     5500            $0    $82325     $1111387\n",
              "36    37   61          2057     5500            $0    $89351     $1206238\n",
              "37    38   62          2058     5500            $0    $96939     $1308677\n",
              "38    39   63          2059     5500            $0   $105134     $1419311\n",
              "39    40   64          2060     5500            $0   $113985     $1538796\n",
              "40    41   65          2061        0      $-142242   $111724     $1508278\n",
              "41    42   66          2062        0      $-142242   $109283     $1475319\n",
              "42    43   67          2063        0      $-142242   $106646     $1439723\n",
              "43    44   68          2064        0      $-142242   $103798     $1401279\n",
              "44    45   69          2065        0      $-142242   $100723     $1359760\n",
              "45    46   70          2066        0      $-142242    $97401     $1314919\n",
              "46    47   71          2067        0      $-142242    $93814     $1266492\n",
              "47    48   72          2068        0      $-142242    $89940     $1214189\n",
              "48    49   73          2069        0      $-142242    $85756     $1157703\n",
              "49    50   74          2070        0      $-142242    $81237     $1096698\n",
              "50    51   75          2071        0      $-142242    $76356     $1030812\n",
              "51    52   76          2072        0      $-142242    $71086      $959656\n",
              "52    53   77          2073        0      $-142242    $65393      $882807\n",
              "53    54   78          2074        0      $-142242    $59245      $799810\n",
              "54    55   79          2075        0      $-142242    $52605      $710173\n",
              "55    56   80          2076        0      $-142242    $45435      $613366\n",
              "56    57   81          2077        0      $-142242    $37690      $508814\n",
              "57    58   82          2078        0      $-142242    $29326      $395897\n",
              "58    59   83          2079        0      $-142242    $20292      $273948\n",
              "59    60   84          2080        0      $-142242    $10536      $142242\n",
              "60    61   85          2081        0      $-142242        $0           $0"
            ]
          },
          "metadata": {
            "tags": []
          },
          "execution_count": 65
        }
      ]
    },
    {
      "cell_type": "markdown",
      "metadata": {
        "id": "AYiDap32PDP3"
      },
      "source": [
        "Looks like at retirement, you would recieve distributions of $62,201! Let's see how much that would be cumulatively"
      ]
    },
    {
      "cell_type": "code",
      "metadata": {
        "colab": {
          "base_uri": "https://localhost:8080/"
        },
        "id": "c9egS1LwOvi6",
        "outputId": "76e8356f-38af-4b97-eada-e6a67b88179d"
      },
      "source": [
        "abs(payout_schedule(35, 5500)['Distribution'].sum())"
      ],
      "execution_count": 66,
      "outputs": [
        {
          "output_type": "execute_result",
          "data": {
            "text/plain": [
              "1306226.2161964327"
            ]
          },
          "metadata": {
            "tags": []
          },
          "execution_count": 66
        }
      ]
    },
    {
      "cell_type": "markdown",
      "metadata": {
        "id": "W1VdQg7OPcnE"
      },
      "source": [
        "Our cumulative distributions amount would be $1,306,226. Let's see how that compares to starting at a younger or older age."
      ]
    },
    {
      "cell_type": "code",
      "metadata": {
        "colab": {
          "base_uri": "https://localhost:8080/",
          "height": 513
        },
        "id": "ePL4-bUp1sdw",
        "outputId": "f1167b1c-207b-4997-97f8-a56ab939e9a1"
      },
      "source": [
        "import matplotlib.pyplot as plt\n",
        "\n",
        "matrix = {age: abs(payout_schedule(age, 5500)['Distribution'].sum()) for age in [25, 30, 35, 40, 45]}\n",
        "\n",
        "plt.figure(figsize=(10, 7))\n",
        "plt.bar(x=matrix.keys(), height=matrix.values(), width=2)\n",
        "plt.xlabel('Beginning Ages')\n",
        "plt.ylabel('Cumulative Distribution Amount');\n",
        "plt.title('Cumulative Distributions by Age of Contribution Start')\n",
        "plt.tight_layout()"
      ],
      "execution_count": 67,
      "outputs": [
        {
          "output_type": "display_data",
          "data": {
            "image/png": "[encoded data removed]",
            "text/plain": [
              "<Figure size 720x504 with 1 Axes>"
            ]
          },
          "metadata": {
            "tags": [],
            "needs_background": "light"
          }
        }
      ]
    },
    {
      "cell_type": "code",
      "metadata": {
        "colab": {
          "base_uri": "https://localhost:8080/"
        },
        "id": "yRtVlxVWPqee",
        "outputId": "2c6d6b96-1502-4f76-8aaf-0696803cf5cd"
      },
      "source": [
        "list(matrix.values())[0] / list(matrix.values())[-1]"
      ],
      "execution_count": 69,
      "outputs": [
        {
          "output_type": "execute_result",
          "data": {
            "text/plain": [
              "5.660957143849301"
            ]
          },
          "metadata": {
            "tags": []
          },
          "execution_count": 69
        }
      ]
    },
    {
      "cell_type": "markdown",
      "metadata": {
        "id": "jL-OEeHhQIKW"
      },
      "source": [
        "Looks like if you began maxing out your IRA at age 25, you would have roughly 5.7 times more retirement money than if you start 45, better start saving, kids!"
      ]
    }
  ]
}