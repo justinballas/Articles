{
  "nbformat": 4,
  "nbformat_minor": 0,
  "metadata": {
    "colab": {
      "name": "BICFR Snippets.ipynb",
      "provenance": [],
      "collapsed_sections": [],
      "authorship_tag": "ABX9TyP0MZoqXp2XMbwKHFvEFQb4",
      "include_colab_link": true
    },
    "kernelspec": {
      "name": "python3",
      "display_name": "Python 3"
    },
    "language_info": {
      "name": "python"
    }
  },
  "cells": [
    {
      "cell_type": "markdown",
      "metadata": {
        "id": "view-in-github",
        "colab_type": "text"
      },
      "source": [
        "<a href=\"https://colab.research.google.com/github/justinballas/Articles/blob/main/BICFR_Snippets.ipynb\" target=\"_parent\"><img src=\"https://colab.research.google.com/assets/colab-badge.svg\" alt=\"Open In Colab\"/></a>"
      ]
    },
    {
      "cell_type": "markdown",
      "metadata": {
        "id": "HgdIdBxL-VzX"
      },
      "source": [
        "This notebook is used as a repository of various blocks of code to be used in the Best In Class Fund Review (BICFR) workflow. This notebook is broken down into the following sections:\n",
        "\n",
        "1. Importing the appropriate files\n",
        "\n",
        "2. Data Cleaning\n",
        "\n",
        "3. Carrier Subaccount Analysis and Rankings\n",
        "\n",
        "4. Best in Class Fund Selection\n",
        "\n",
        "5. Excel Reporting"
      ]
    },
    {
      "cell_type": "code",
      "metadata": {
        "colab": {
          "base_uri": "https://localhost:8080/"
        },
        "id": "Syja6iC6-Nol",
        "outputId": "d80602de-a7aa-4141-c8f5-1d6a2f57eb57"
      },
      "source": [
        "!pip install xlsxwriter"
      ],
      "execution_count": 2,
      "outputs": [
        {
          "output_type": "stream",
          "text": [
            "Collecting xlsxwriter\n",
            "\u001b[?25l  Downloading https://files.pythonhosted.org/packages/2c/ce/74fd8d638a5b82ea0c6f08a5978f741c2655a38c3d6e82f73a0f084377e6/XlsxWriter-1.4.3-py2.py3-none-any.whl (149kB)\n",
            "\r\u001b[K     |██▏                             | 10kB 17.4MB/s eta 0:00:01\r\u001b[K     |████▍                           | 20kB 20.2MB/s eta 0:00:01\r\u001b[K     |██████▋                         | 30kB 15.9MB/s eta 0:00:01\r\u001b[K     |████████▊                       | 40kB 14.2MB/s eta 0:00:01\r\u001b[K     |███████████                     | 51kB 7.9MB/s eta 0:00:01\r\u001b[K     |█████████████▏                  | 61kB 9.2MB/s eta 0:00:01\r\u001b[K     |███████████████▍                | 71kB 8.7MB/s eta 0:00:01\r\u001b[K     |█████████████████▌              | 81kB 9.2MB/s eta 0:00:01\r\u001b[K     |███████████████████▊            | 92kB 8.9MB/s eta 0:00:01\r\u001b[K     |██████████████████████          | 102kB 7.5MB/s eta 0:00:01\r\u001b[K     |████████████████████████▏       | 112kB 7.5MB/s eta 0:00:01\r\u001b[K     |██████████████████████████▎     | 122kB 7.5MB/s eta 0:00:01\r\u001b[K     |████████████████████████████▌   | 133kB 7.5MB/s eta 0:00:01\r\u001b[K     |██████████████████████████████▊ | 143kB 7.5MB/s eta 0:00:01\r\u001b[K     |████████████████████████████████| 153kB 7.5MB/s \n",
            "\u001b[?25hInstalling collected packages: xlsxwriter\n",
            "Successfully installed xlsxwriter-1.4.3\n"
          ],
          "name": "stdout"
        }
      ]
    },
    {
      "cell_type": "code",
      "metadata": {
        "id": "OqrijMY3-Twp"
      },
      "source": [
        "import pandas as pd\n",
        "import numpy as np\n",
        "import matplotlib.pyplot as plt\n",
        "import seaborn as sns\n",
        "import xlsxwriter\n",
        "from glob import glob\n",
        "%matplotlib inline"
      ],
      "execution_count": 52,
      "outputs": []
    },
    {
      "cell_type": "markdown",
      "metadata": {
        "id": "3MlY4xES_4L7"
      },
      "source": [
        "1. Importing the appropriate files"
      ]
    },
    {
      "cell_type": "code",
      "metadata": {
        "colab": {
          "base_uri": "https://localhost:8080/"
        },
        "id": "Qq2IPI5e_7Yx",
        "outputId": "9338c370-2659-496a-86a7-4c6ffd65222d"
      },
      "source": [
        "#Initiate a list of carriers. this abbreviation will be used to import each file based on the carrier name and will double as the alias for each carrier for use throughout the Python script. \n",
        "carriers_list = ['LCL', 'NWD', 'PL', 'PRT', 'Summit', 'MM', 'COIL']\n",
        "\n",
        "#Using Glob to import files based on carrier name\n",
        "files = [glob('{}*'.format(carrier)) for carrier in carriers_list]\n",
        "#Glob returns a list, so when using list comprehentions it will return a list of lists, we must convert to a flat list.\n",
        "files = [item for elem in files for item in elem]\n",
        "#Reading in the CSVs, skipfooter removes the summary statistics from the Morningstar output\n",
        "files = [pd.read_csv(file, skipfooter=13) for file in files]\n",
        "#Converts to a dictionary to easily call DataFrames for each carrier. Dictionary structure is used for looping through different amounts carriers to increase reusability of scripts.\n",
        "carrier_dfs = dict(zip(carriers_list, files))"
      ],
      "execution_count": 53,
      "outputs": [
        {
          "output_type": "stream",
          "text": [
            "/usr/local/lib/python3.7/dist-packages/ipykernel_launcher.py:9: ParserWarning: Falling back to the 'python' engine because the 'c' engine does not support skipfooter; you can avoid this warning by specifying engine='python'.\n",
            "  if __name__ == '__main__':\n"
          ],
          "name": "stderr"
        }
      ]
    },
    {
      "cell_type": "markdown",
      "metadata": {
        "id": "drBese4IQcNU"
      },
      "source": [
        "2. Data Cleaning"
      ]
    },
    {
      "cell_type": "code",
      "metadata": {
        "id": "G5wSpLQDQf6l"
      },
      "source": [
        "#removing \"\\n\" anomaly from wrap text.\n",
        "for carrier, df in carrier_dfs.items():\n",
        "  df.rename(columns=lambda x: x.replace('\\n',''), inplace=True)"
      ],
      "execution_count": 55,
      "outputs": []
    },
    {
      "cell_type": "code",
      "metadata": {
        "id": "sfNuKI4eRRTo"
      },
      "source": [
        "#remove funds that are closed to new investment\n",
        "for carrier in carriers_list:\n",
        "  temp_df = carrier_dfs[carrier]\n",
        "  temp_df.drop(temp_df[temp_df['Closed to New Inv']=='Yes'].index, inplace=True)"
      ],
      "execution_count": 56,
      "outputs": []
    },
    {
      "cell_type": "code",
      "metadata": {
        "id": "ttDyKMh9Se_w"
      },
      "source": [
        "#Selecting columns used in BICFR\n",
        "cols_list = ['Name',\n",
        " 'Morningstar Category',\n",
        " 'Advisor',\n",
        " 'Subadvisor',\n",
        " 'Total Ret 1 Yr (Mo-End) Base Currency',\n",
        " 'Total Ret Annlzd 3 Yr (Mo-End) Base Currency',\n",
        " 'Total Ret Annlzd 5 Yr (Mo-End) Base Currency',\n",
        " 'Total Ret Annlzd 10 Yr (Mo-End) Base Currency',\n",
        " 'Morningstar Rating Overall',\n",
        " 'Morningstar Rating 3 Yr',\n",
        " 'Morningstar Rating 5 Yr',\n",
        " 'Morningstar Rating 10 Yr',\n",
        " 'Total Ret % Rank Cat 1 Yr (Mo-End)',\n",
        " 'Total Ret % Rank Cat 3 Yr (Mo-End)',\n",
        " 'Total Ret % Rank Cat 5 Yr (Mo-End)',\n",
        " 'Total Ret % Rank Cat 10 Yr (Mo-End)',\n",
        " 'Manager Tenure (Average)',\n",
        " 'Sharpe Ratio 3 Yr (Mo-End) Risk Currency',\n",
        " 'Prospectus Net Expense Ratio']\n",
        "\n",
        "for df in carrier_dfs.values():\n",
        "  df = df.loc[:, cols_list]"
      ],
      "execution_count": 65,
      "outputs": []
    },
    {
      "cell_type": "code",
      "metadata": {
        "id": "7SMOsyRLVuxd"
      },
      "source": [
        "for carrier, df in carrier_dfs.items():\n",
        "  carrier_dfs[carrier] = df.loc[:,cols_list]"
      ],
      "execution_count": 71,
      "outputs": []
    },
    {
      "cell_type": "code",
      "metadata": {
        "colab": {
          "base_uri": "https://localhost:8080/"
        },
        "id": "J3Qv01ocWVta",
        "outputId": "7203cf67-a740-4296-a1fd-485115880da4"
      },
      "source": [
        "carrier_dfs['LCL'].columns"
      ],
      "execution_count": 73,
      "outputs": [
        {
          "output_type": "execute_result",
          "data": {
            "text/plain": [
              "Index(['Name', 'Morningstar Category', 'Advisor', 'Subadvisor',\n",
              "       'Total Ret 1 Yr (Mo-End) Base Currency',\n",
              "       'Total Ret Annlzd 3 Yr (Mo-End) Base Currency',\n",
              "       'Total Ret Annlzd 5 Yr (Mo-End) Base Currency',\n",
              "       'Total Ret Annlzd 10 Yr (Mo-End) Base Currency',\n",
              "       'Morningstar Rating Overall', 'Morningstar Rating 3 Yr',\n",
              "       'Morningstar Rating 5 Yr', 'Morningstar Rating 10 Yr',\n",
              "       'Total Ret % Rank Cat 1 Yr (Mo-End)',\n",
              "       'Total Ret % Rank Cat 3 Yr (Mo-End)',\n",
              "       'Total Ret % Rank Cat 5 Yr (Mo-End)',\n",
              "       'Total Ret % Rank Cat 10 Yr (Mo-End)', 'Manager Tenure (Average)',\n",
              "       'Sharpe Ratio 3 Yr (Mo-End) Risk Currency',\n",
              "       'Prospectus Net Expense Ratio'],\n",
              "      dtype='object')"
            ]
          },
          "metadata": {
            "tags": []
          },
          "execution_count": 73
        }
      ]
    }
  ]
}